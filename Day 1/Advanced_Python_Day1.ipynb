{
 "cells": [
  {
   "cell_type": "markdown",
   "metadata": {},
   "source": [
    "### Fabian Wilde, University of Greifswald\n",
    "\n",
    "# Advanced Python course - Day 1 / 2 - Friday 9.10.2020\n",
    "\n",
    "<hr style=\"border:1px solid black\"> </hr>\n",
    "<br>\n",
    "<font size=\"4\">\n",
    "    This course requires <b>the course participants to have at least basic experience in</b> using the programming language <b>Python</b> and the <b>functional programming paradigm</b>. Therefore, <b>the course participant should be</b> at least <b>familiar with</b> <br>\n",
    "<ul>\n",
    "    <li>handling of builtin Python datatypes: int, float, str, bool, Lists, Dictionaries</li>\n",
    "    <li>control flow structures like for-/while-loops, if-elif-else statements</li>\n",
    "    <li>importing and usage of (3rd party) modules</li>\n",
    "    <li>defining (anonymous) functions with fixed/variable arguments</li>\n",
    "    <li>running Python scripts on the command-line and handling of command-line arguments\n",
    "    <li>numpy and matplotlib</li>\n",
    "</ul>\n",
    "</font>\n",
    "\n",
    "### Table of Contents - Day 1 / 2\n",
    "------------------------------\n",
    "<br>\n",
    "<font size=\"4\">\n",
    "<ul>\n",
    "    <li><b>The object-oriented programming paradigm:</b></li>\n",
    "    <br>\n",
    "    <ul>\n",
    "        <li>Classes, Objects and Attributes</li>\n",
    "        <li>Decorators</li>\n",
    "        <li>Inheritance & Method prototyping and overloading (Polymorphism)</li>\n",
    "        <li>Useful builtin functions and inspect</li>\n",
    "    </ul>\n",
    "    <br>\n",
    "    <li><b>String handling and regular expressions</b></li>\n",
    "    <br>\n",
    "    <li><b>Exceptions</b></li>\n",
    "    </ul>\n",
    "</font>  \n",
    "  \n",
    "### Table of Contents - Day 2 / 2 (online)\n",
    "------------------------------\n",
    "<br>\n",
    "<font size=\"4\">\n",
    "<ul>\n",
    "    <font color=\"gray\">\n",
    "    <li><b>Parallelism</b></li>\n",
    "    <br>\n",
    "    <li><b>Best Practices in Python</b></li>\n",
    "    <br>\n",
    "    <li><b>Debugging & Logging</b></li>\n",
    "    <br>\n",
    "    <li><b>Miscellanous</b></li>\n",
    "    <br>\n",
    "        <li><b>Final project</b></li>\n",
    "        <br>\n",
    "        <i>Personal, individual feedback and evaluation of the projects for the assigned working groups afterwards.</i>\n",
    "    </font>\n",
    "</ul>\n",
    "</font>\n",
    "<br>\n",
    "<hr style=\"border:1px solid gray\"> </hr>\n",
    "\n",
    "## Preparations\n",
    "<br>\n",
    "<font size=\"3\">\n",
    "<b>This course uses JupyterHub. It is a Jupyter notebook environment running on a remote server of the university (which we're using right now). It is accessible from within the university network (being connected to eduroam) or remotely from home via the VPN client. Therefore, a local installation is not necessary.</b><br>\n",
    "<div class=\"alert alert-warning\" role=\"alert\">\n",
    "    <b>If you're connected to eduroam or via the VPN client, you can directly access the JupyterHub via</b>\n",
    "    <a href=\"https://jupyterhub.wolke.uni-greifswald.de/hub/login\">https://jupyterhub.wolke.uni-greifswald.de/hub/login</a> using your personal login credentials from the university data center. Then select \"Datascience\" as instance type.\n",
    "</div>\n",
    "<br>\n",
    "In order to use the course materials in your Jupyter notebook instance, open a new empty notebook, type the following statements in the cell and <b>execute it with CTRL + ENTER.</b>\n",
    "</font>"
   ]
  },
  {
   "cell_type": "code",
   "execution_count": null,
   "metadata": {},
   "outputs": [],
   "source": [
    "%%bash\n",
    "git clone https://github.com/fwilde/pyadvanced"
   ]
  },
  {
   "cell_type": "markdown",
   "metadata": {},
   "source": [
    "<hr style=\"border:1px solid gray\"> </hr>\n",
    "\n",
    "## Reminder of Jupyter Keyboard Shortcuts\n",
    "<br>\n",
    "\n",
    "<font size=\"3\">\n",
    "    \n",
    "| Shortcut | Function |\n",
    "| -------- | ----------- |\n",
    "| Esc      | Switch to command mode |\n",
    "| Enter    | Switch to edit mode |\n",
    "| B        | Create new empty cell **B**elow |\n",
    "| H        | Show **H**elp   |\n",
    "| X        | Delete currently selected cell|\n",
    "| Ctrl + Shift + - | Split cell at current cursor position |\n",
    "| Shift + Enter | Run cell and advance to next cell |\n",
    "| Ctrl  + Enter | Run cell |\n",
    "| Ctrl  + S     | Save notebook |\n",
    "\n",
    "The frame color of the currently selected cell changes from blue in command mode to green in edit mode.\n",
    "\n",
    "</font>\n",
    "\n",
    "<hr style=\"border:1px solid gray\"> </hr>\n",
    "\n",
    "## The object-oriented programming (OOP) paradigm\n",
    "\n",
    "<br>\n",
    "<div align=\"center\">\n",
    "    <img src=\"img/paradigms.jpg\" width=\"66%\">\n",
    "</div>\n",
    "<br>\n",
    "<font size=\"2\">\n",
    "    <i>Source:</i> <a href=\"https://digitalfellows.commons.gc.cuny.edu/2018/03/12/an-introduction-to-programming-paradigms/\"><i>https://digitalfellows.commons.gc.cuny.edu/2018/03/12/an-introduction-to-programming-paradigms/</i></a>\n",
    "</font>\n",
    "<br>\n",
    "<br>\n",
    "<font size=\"3\">\n",
    "    <b>Python is a multi-paradigm programming language</b>, hence supporting multiple <a href=\"https://en.wikipedia.org/wiki/Comparison_of_programming_paradigms\">programming paradigms</a>. A programming paradigm is a style, philosophy or a set of principles followed in structuring your code and the way to implement its intended functionality. Among the various paradigms, the <a href=\"https://en.wikipedia.org/wiki/Functional_programming\"><b>functional</b></a> and the <a href=\"https://en.wikipedia.org/wiki/Object-oriented_programming\"><b>object-oriented programming (OOP)</b></a> paradigm are the most popular, also in Python.<br>\n",
    "\n",
    "<b>The functional paradigm</b> focusses on:\n",
    "<ul>\n",
    "<li><b>Structuring your code</b>, so that the program uses subroutine/function calls (executing another program parts from elsewhere during the runtime).\n",
    "</li>\n",
    "<li>\n",
    "<b>Functions</b> in a mathematical sense <b>with arguments and return values</b>.\n",
    "</li>\n",
    "<li>\n",
    "<b>Scoping, the limited visibility of an entity (e.g. the name binding of a variable) is implemented</b>, allowing for <b>local variables</b> and <b>isolation</b>.\n",
    "</li>\n",
    "<li>\n",
    "<b>Functions allowing the reusability</b> of parts of the code since they <b>should ideally work as black boxes</b>.\n",
    "</li>\n",
    "<li>\n",
    "    <b>Statelessness</b>, hence <b>it shouldn't matter when a function is called.</b> As long as the same input is used, the function should yield the same output. <b>Hence functions are only loosely coupled to data</b> outside of their scope.\n",
    "</li>\n",
    "</ul>\n",
    "<br>\n",
    "A <b>use case</b> is for <b>smaller projects or specialized scripts</b> where <b>new features are rather unlikely to be implemented.</b><br>\n",
    "Examples for other programming languages following this paradigm are C, Fortran and Cobol.\n",
    "<br>\n",
    "<br>\n",
    "<b>The OOP paradigm</b> focusses on:\n",
    "<ul>\n",
    "<li><b>Classes defining objects encapsulating functionality</b> which could also exist independently and can be easily ported to other projects.\n",
    "</li>\n",
    "<li>\n",
    "<b>Class objects posess <i>methods</i></b>, functions bound to the object which should act only on the <b><i>attributes</i></b> of the object. The latter are <b>variables bound to the object instance.</b>\n",
    "</li>\n",
    "<li>\n",
    "<b>The data (its state) is strictly bound to the object.</b>\n",
    "</li>\n",
    "<li><b>States</b> since the objects (can) store a state in their attributes. The interaction of these objects with the environment takes place via <b><i>special object methods</i></b>, the so-called <b><i>interfaces</i></b>, to avoid direct manipulation of object attributes from outside <b>ensuring data security.</b> <b>Statefulness implies</b> that the <b>execution order of object methods can matter.</b>\n",
    "</li>\n",
    "<li>\n",
    "<b>Classes grouped in modules</b> so that the objects have the specific environments to work in. This allows <b>easy extensibility</b>.\n",
    "</li>\n",
    "<li>\n",
    "<b>Inheritance</b> allowing for a sub-class to inherit methods and attributes from the parent class.\n",
    "</li>\n",
    "<li>\n",
    "<b>The program functionality is realized by object interactions</b>, hence message passing between the objects. \n",
    "</li>\n",
    "</ul>\n",
    "<br>\n",
    "A <b>use case</b> is a <v>big project</b> with <b>many collaborators</b> where the <b>task can be easily subdivided</b>, where <b>statefulness</b> is important and <b>new features are likely to be added.</b>\n",
    "<br>\n",
    "Examples for other programming languages following this paradigm are Java, C++, Objective-C, Ruby or VB .NET.<br>\n",
    "<br>\n",
    "The different paradigms are partly built on each other. <br><br>Both paradigms implement the <b>DRY</b>-principle (<b>D</b>on't <b>R</b>epeat <b>Y</b>ourself). <br><br> If possible, you always should try to outsource repeating code in functions or classes. <br><br> <b>This does not only improve the maintainability of your code, but also its readability and portability.</b>\n",
    "</font>\n",
    "<br>\n",
    "<br>\n",
    "<div align=\"center\">\n",
    "    <img src=\"img/oops.png\" width=\"50%\">\n",
    "</div>\n",
    "<br>\n",
    "<font size=\"2\">\n",
    "    <i>Source:</i> <a href=\"https://www.freecodecamp.org/news/what-exactly-is-a-programming-paradigm/\"><i>https://www.freecodecamp.org/news/what-exactly-is-a-programming-paradigm/</i></a>\n",
    "</font>\n",
    "<br>\n",
    "<br>\n",
    "<font size=\"3\">\n",
    "<b>In summary, the abstract features of object-oriented programming are</b><br>\n",
    "<ul>\n",
    "    <li><b>Inheritance:</b> <br>Derivation of class from another class. Hierarchy of classes sharing common attributes and methods. Allows faster development of new features using already existing interfaces.</li><br>\n",
    "    <li><b>Polymorphism:</b> <br>A function, variable or object can have multiple forms, e.g. the same method could except different number and type of input arguments or the usage of a common interface for objects of different classes.</li><br>\n",
    "    <li><b>Abstraction:</b><br> A simplified data representation\n",
    "    </li>\n",
    "    <br>\n",
    "    <li><b>Encapsulation:</b><br> Bundling data and methods to hide the internal state and mechanics of an object from the outside. Ensures data safety, portability and maintainability.</li>\n",
    "</ul>\n",
    "</font>\n",
    "\n",
    "### Classes, Objects & Attributes\n",
    "<br>\n",
    "<div align=\"center\">\n",
    "    <img src=\"img/yoda_meme.png\" width=\"40%\">\n",
    "</div>\n",
    "<br>\n",
    "<font size=\"2\">\n",
    "    <i>Source:</i> <a href=\"https://medium.com/@972LPV/mutable-vs-immutable-objects-in-python-a8a3439636b6\"><i>https://medium.com/@972LPV/mutable-vs-immutable-objects-in-python-a8a3439636b6</i></a>\n",
    "</font>\n",
    "<br>\n",
    "<br>\n",
    "<font size=\"3\">\n",
    "    <b>Classes are blueprints or templates for objects in Python defining the object <i>properties via attributes</i> and <i>behavior via methods</i>.</b><br>\n",
    "In Python, even the basic builtin datatypes like int, float or str, are objects of a class in the end. Even references to functions. In Python, every entity is and can be treated as object.<br>\n",
    "\n",
    "### Example:"
   ]
  },
  {
   "cell_type": "code",
   "execution_count": 14,
   "metadata": {},
   "outputs": [
    {
     "name": "stdout",
     "output_type": "stream",
     "text": [
      "type(int_var)=<class 'int'>\n",
      "type(str_var)=<class 'str'>\n",
      "type(float_var)=<class 'float'>\n",
      "type(tuple_var)=<class 'tuple'>\n",
      "type(list_var)=<class 'list'>\n",
      "type(dict_var)=<class 'dict'>\n",
      "type(func_var)=<class 'function'>\n",
      "type(foo)=<class 'function'>\n"
     ]
    }
   ],
   "source": [
    "# example int\n",
    "int_var = 3\n",
    "# example str\n",
    "str_var = \"Hello world!\"\n",
    "# example float\n",
    "float_var = 3.141\n",
    "# example tuple\n",
    "tuple_var = (1,2,3)\n",
    "# example list\n",
    "list_var = [1,2,3]\n",
    "# example dict\n",
    "dict_var = {'a':1,'b':2,'c':3}\n",
    "# example lambda/anonymous function\n",
    "func_var = lambda x: x**2\n",
    "# example \"regular\" function\n",
    "def foo(bar):\n",
    "    return bar**2\n",
    "\n",
    "# print types of the variables\n",
    "print(\"type(int_var)=\"+str(type(int_var)))\n",
    "print(\"type(str_var)=\"+str(type(str_var)))\n",
    "print(\"type(float_var)=\"+str(type(float_var)))\n",
    "print(\"type(tuple_var)=\"+str(type(tuple_var)))\n",
    "print(\"type(list_var)=\"+str(type(list_var)))\n",
    "print(\"type(dict_var)=\"+str(type(dict_var)))\n",
    "print(\"type(func_var)=\"+str(type(func_var)))\n",
    "print(\"type(foo)=\"+str(type(foo)))"
   ]
  },
  {
   "cell_type": "markdown",
   "metadata": {},
   "source": [
    "<font size=\"4\">\n",
    "<b>A class definition in Python has the following syntax:</b><br><br>\n",
    "</font>\n",
    "<font size=\"3\">\n",
    "<b>class <i>ClassName</i>(<i>ParentClass</i>):</b><br>\n",
    "<p style=\"margin-left: 20px\"><b>def __init__(self, <i>arguments</i>):</b></p>\n",
    "<p style=\"margin-left: 40px\"><font face=\"Courier\">self.<i>public_attr</i> = <i>value</i></font></p>\n",
    "<p style=\"margin-left: 40px\"><font face=\"Courier\">self.<i>_protected_attr</i> = <i>value</i></font></p>\n",
    "<p style=\"margin-left: 40px\"><font face=\"Courier\">self.<i>__private_attr</i> = <i>value</i></font></p>\n",
    "<p style=\"margin-left: 40px\"><font face=\"Courier\">indented code block</font></p>\n",
    "<p style=\"margin-left: 40px\"><b>[return <i>self</i></b> or <b><i>value</i>]</b></p>\n",
    "\n",
    "<p style=\"margin-left: 20px\"><b>def public_method(self, <i>arguments</i>):</b></p>\n",
    "<p style=\"margin-left: 40px\"><font face=\"Courier\">indented code block</font></p>\n",
    "<p style=\"margin-left: 40px\"><b>[return <i>self</i></b> or <b><i>value</i>]</b></p>\n",
    "\n",
    "<p style=\"margin-left: 20px\"><b>def _protected_method(self, <i>arguments</i>):</b></p>\n",
    "<p style=\"margin-left: 40px\"><font face=\"Courier\">indented code block</font></p>\n",
    "<p style=\"margin-left: 40px\"><b>[return <i>self</i></b> or <b><i>value</i>]</b></p>\n",
    "\n",
    "<p style=\"margin-left: 20px\"><b>def __private_method(self, <i>arguments</i>):</b></p>\n",
    "<p style=\"margin-left: 40px\"><font face=\"Courier\">indented code block</font></p>\n",
    "<p style=\"margin-left: 40px\"><b>[return <i>self</i></b> or <b><i>value</i>]</b></p>\n",
    "<br>\n",
    "<b>where the private, builtin method <i>__init__</i> is the so-called <i>constructor</i> of the class object which is invoked when a new class object is <i>instantiated</i> (created).</b><br>\n",
    "<b>The class naming convention is to start with a capital letter and may use only here camel case, hence the alternating use of small and capital letters to create seperation, e.g. ClassName.</b><br><br>\n",
    "<br>\n",
    "<font size=\"4\">\n",
    "<u><b>Attribute and Method Naming Convention:</b></u>\n",
    "</font>\n",
    "<font size=\"3\">\n",
    "<br>\n",
    "<br>\n",
    "<b>Methods or attributes</b>\n",
    "<ul>\n",
    "    <li><b>without leading underscore</b> as name prefix are <b>public.</b></li>\n",
    "    <li><b>with one leading underscore</b> as name prefix are <b>protected.</b></li>\n",
    "    <li><b>with two leading underscores</b> as name prefix are <b>private.</b></li>\n",
    "    <li><b>with two underscores as</b> name <b>prefix and suffix</b> are <b>private, built-in methods.</b></li>\n",
    "</ul>\n",
    "<b>In contrast to other programming languages, this is <u>just a notational convention</u> and by no means a real access protection!</b><br><br>\n",
    "<b>Protected and private methods and protected attributes <b>can be accessed anyway!</b><br><br>\n",
    "<b>When you attempt to access a private attribute, an error is thrown, but it can be accessed anyway with a trick.</b>\n",
    "</font>\n",
    "\n",
    "### Example:"
   ]
  },
  {
   "cell_type": "code",
   "execution_count": 112,
   "metadata": {},
   "outputs": [
    {
     "name": "stdout",
     "output_type": "stream",
     "text": [
      "Object types:\n",
      "type(dog1)=<class '__main__.Dog'>\n",
      "type(dog2)=<class '__main__.Dog'>\n",
      "type(ball1)=<class '__main__.Ball'>\n",
      "\n",
      "Objects implicitly converted to strings:\n",
      "<__main__.Dog object at 0x7f17a37821d0>\n",
      "<__main__.Dog object at 0x7f17a3782128>\n",
      "<__main__.Ball object at 0x7f17a37bd0f0>\n",
      "\n"
     ]
    }
   ],
   "source": [
    "# class definition\n",
    "# the class \"Dog\" inherits from class \"object\"\n",
    "# naming convention for class names is to start with a capital letter\n",
    "class Dog(object):\n",
    "    \n",
    "    # the constructor of the class\n",
    "    # a private, built-in method\n",
    "    def __init__(self, name, age):\n",
    "        # a private attrbute which should be changed from outside the object\n",
    "        self.__name = name\n",
    "        self._age = age\n",
    "        self.favorite_food = \"Pizza\"\n",
    "        self.favorite_toy = \"Bone\"\n",
    "        self.has = None\n",
    "        self.__energy = 5\n",
    "        \n",
    "    # overload the builtin method __str__ \n",
    "    # for an implicit string representation of the object\n",
    "    #def __str__(self):\n",
    "    #    return \"This is the dog \"+self.__name+\". I am \"+str(self._age)+\" years old.\"\n",
    "        \n",
    "    # a public class method\n",
    "    def bark(self, volume, pitch, duration):\n",
    "        # assemble string\n",
    "        bark_str_prefix = [\"bo\",\"ba\",\"bi\"]\n",
    "        bark_str_letter = [\"o\",\"a\",\"i\"]\n",
    "        bark_str_suffix = \"rk\"\n",
    "        bark_str = bark_str_prefix[pitch]\n",
    "        bark_str += bark_str_letter[pitch]*duration\n",
    "        bark_str += bark_str_suffix\n",
    "        if volume > 50:\n",
    "            bark_str = str.upper(bark_str)\n",
    "            \n",
    "        if self.__energy <= 0:\n",
    "            return self.__sleep()\n",
    "        else:\n",
    "            self.__energy -= 1\n",
    "            return bark_str\n",
    "    \n",
    "    # a public class method\n",
    "    # implements an interaction between the objects of class Dog and Ball\n",
    "    def bite(self, obj):\n",
    "        if isinstance(obj, Ball):\n",
    "            obj.deflate()\n",
    "    \n",
    "    # a public class method\n",
    "    def retrieve(self, obj):\n",
    "        self.has = obj\n",
    "        return obj\n",
    "    \n",
    "    # a private class method - method name starts with two underscores\n",
    "    def __sleep(self):\n",
    "        self.__energy = 5\n",
    "        return \"zZzZ\"\n",
    "    \n",
    "    # setter - method to set private attribute content\n",
    "    def set_name(self, new_name):\n",
    "        self.__name = new_name\n",
    "    \n",
    "    # getter - method which yields private attribute content\n",
    "    def get_name(self):\n",
    "        return self.__name\n",
    "    \n",
    "    # getter - method which yields private attribute content\n",
    "    def get_energy(self):\n",
    "        return self.__energy\n",
    "\n",
    "# another class definition\n",
    "class Ball(object):\n",
    "    def __init__(self, size, color, weight, inflated):\n",
    "        self.__color = color\n",
    "        self.__size = size\n",
    "        self.__weight = weight\n",
    "        self.__inflated = inflated\n",
    "        \n",
    "    # setter - method to set private attribute content\n",
    "    def deflate(self):\n",
    "        self.__inflated = False\n",
    "\n",
    "    # setter - method to set private attribute content\n",
    "    def inflate(self):\n",
    "        self.__inflated = True\n",
    "        \n",
    "    # setter - method to set private attribute content\n",
    "    def set_inflated(self, value):\n",
    "        self.__inflated = value\n",
    "\n",
    "    # getter - method which yields private attribute content\n",
    "    def is_inflated(self):\n",
    "        return self.__inflated\n",
    "    \n",
    "    def print_status(self):\n",
    "        out_str = \"The ball is \"+self.__color+\" and \"+str(self.__size)+\\\n",
    "                    \" m big and weights \"+str(self.__weight)+\" kg and is \"\n",
    "        if self.__inflated:\n",
    "            out_str += \"inflated.\"\n",
    "        else:\n",
    "            out_str += \"not inflated.\"\n",
    "        print(out_str)\n",
    "        return out_str\n",
    "\n",
    "# instantiate new \"Dog\" objects\n",
    "dog1 = Dog(\"Bello\", 0)\n",
    "dog2 = Dog(\"Doggo\", 2)\n",
    "# instantiate new \"Ball\" object\n",
    "ball1 = Ball(0.3, \"red\", 0.2, True)\n",
    "\n",
    "# print types\n",
    "print(\"Object types:\")\n",
    "print(\"type(dog1)=\"+str(type(dog1)))\n",
    "print(\"type(dog2)=\"+str(type(dog2)))\n",
    "print(\"type(ball1)=\"+str(type(ball1))+\"\\n\")\n",
    "\n",
    "# attempt to print Dog-objects\n",
    "# results in standard string representation for generic objects\n",
    "# since we have not overloaded the built-in method __str__\n",
    "# which takes care of the conversion of the object to a string representation\n",
    "print(\"Objects implicitly converted to strings:\")\n",
    "print(dog1)\n",
    "print(dog2)\n",
    "print(ball1)\n",
    "print(\"\")"
   ]
  },
  {
   "cell_type": "markdown",
   "metadata": {},
   "source": [
    "<font size=\"3\">\n",
    "When you attempt to print objects of user-defined classes, Python tries to implicitly convert these objects to a string representation.<br><br>\n",
    "<b>Since <i>Dog</i> and <i>Ball</i> are user-defined classes, Python cannot know what an adequate string representation of that object would be. Therefore, an object is converted to a string of that form as default.</b><br><br>\n",
    "We can invoke public object methods without any problem. An object method can change attributes of the object, hence an object can have a certain state.\n",
    "</font>"
   ]
  },
  {
   "cell_type": "code",
   "execution_count": 113,
   "metadata": {},
   "outputs": [
    {
     "name": "stdout",
     "output_type": "stream",
     "text": [
      "Results of invoked object methods:\n",
      "----------------------------\n",
      "\n",
      "dog1.bark(40, 0, 1) = boork\n",
      "dog1.bark(50, 1, 1) = baark\n",
      "dog1.bark(60, 1, 1) = BAARK\n",
      "dog1.bark(60, 1, 10) = BAAAAAAAAAAARK\n",
      "dog1.retrieve(ball1) = <__main__.Ball object at 0x7f17a37bd0f0>\n",
      "The ball is red and 0.3 m big and weights 0.2 kg and is inflated.\n",
      "\n",
      "ball1.is_inflated() = True\n",
      "After invoking ball1.deflate():\n",
      "ball1.is_inflated() = False\n",
      "\n"
     ]
    }
   ],
   "source": [
    "# invoke public object methods\n",
    "print(\"Results of invoked object methods:\")\n",
    "print(\"----------------------------\\n\")\n",
    "print(\"dog1.bark(40, 0, 1) = \"+str(dog1.bark(40, 0, 1)))\n",
    "print(\"dog1.bark(50, 1, 1) = \"+str(dog1.bark(50, 1, 1)))\n",
    "print(\"dog1.bark(60, 1, 1) = \"+str(dog1.bark(60, 1, 1)))\n",
    "print(\"dog1.bark(60, 1, 10) = \"+str(dog1.bark(60, 1, 10)))\n",
    "print(\"dog1.retrieve(ball1) = \"+str(dog1.retrieve(ball1)))\n",
    "ball1.print_status()\n",
    "print(\"\")\n",
    "\n",
    "# invoke method which modifies the objects attributes\n",
    "print(\"ball1.is_inflated() = \"+str(ball1.is_inflated()))\n",
    "print(\"After invoking ball1.deflate():\")\n",
    "ball1.deflate()\n",
    "print(\"ball1.is_inflated() = \"+str(ball1.is_inflated()))\n",
    "print(\"\")"
   ]
  },
  {
   "cell_type": "markdown",
   "metadata": {},
   "source": [
    "<font size=\"3\">\n",
    "The statefullness of objects in Python is also demonstrated by interaction between different object types.<br>\n",
    "<b>In this example, an object of class Dog invokes a method of another object of a different class, here Ball.</b>\n",
    "</font>"
   ]
  },
  {
   "cell_type": "code",
   "execution_count": 114,
   "metadata": {},
   "outputs": [
    {
     "name": "stdout",
     "output_type": "stream",
     "text": [
      "Statefullness of objects:\n",
      "-------------------------\n",
      "If method bark() was invoked 5 times (not necessarily sequentially),\n",
      "the private method __sleep() of the Dog object is invoked.\n",
      "dog1.get_energy() = 1\n",
      "dog1.bark(100,1,20) = BAAAAAAAAAAAAAAAAAAAAARK\n",
      "dog1.get_energy() = 0\n",
      "dog1.bark(100,1,20) = zZzZ\n",
      "dog1.get_energy() = 5\n",
      "\n",
      "Interaction between objects:\n",
      "----------------------------\n",
      "\n",
      "After invoking ball1.inflate():\n",
      "ball1.is_inflated() = True\n",
      "After invoking dog1.bite(ball1):\n",
      "ball1.is_inflated() = False\n",
      "\n",
      "dog1.has = <__main__.Ball object at 0x7f17a37bd0f0>\n",
      "\n",
      "\n",
      "Attempt to access private attribute throws an error (encapsulation):\n"
     ]
    },
    {
     "ename": "AttributeError",
     "evalue": "'Dog' object has no attribute '__name'",
     "output_type": "error",
     "traceback": [
      "\u001b[0;31m---------------------------------------------------------------------------\u001b[0m",
      "\u001b[0;31mAttributeError\u001b[0m                            Traceback (most recent call last)",
      "\u001b[0;32m<ipython-input-114-7ce1690d2821>\u001b[0m in \u001b[0;36m<module>\u001b[0;34m\u001b[0m\n\u001b[1;32m     28\u001b[0m \u001b[0;31m# attempt to access private object attribute (discouraged anyway, use setter/getter methods instead !)\u001b[0m\u001b[0;34m\u001b[0m\u001b[0;34m\u001b[0m\u001b[0;34m\u001b[0m\u001b[0m\n\u001b[1;32m     29\u001b[0m \u001b[0mprint\u001b[0m\u001b[0;34m(\u001b[0m\u001b[0;34m\"Attempt to access private attribute throws an error (encapsulation):\"\u001b[0m\u001b[0;34m)\u001b[0m\u001b[0;34m\u001b[0m\u001b[0;34m\u001b[0m\u001b[0m\n\u001b[0;32m---> 30\u001b[0;31m \u001b[0mprint\u001b[0m\u001b[0;34m(\u001b[0m\u001b[0;34m\"dog1.__name = \"\u001b[0m\u001b[0;34m+\u001b[0m\u001b[0mstr\u001b[0m\u001b[0;34m(\u001b[0m\u001b[0mdog1\u001b[0m\u001b[0;34m.\u001b[0m\u001b[0m__name\u001b[0m\u001b[0;34m)\u001b[0m\u001b[0;34m)\u001b[0m\u001b[0;34m\u001b[0m\u001b[0;34m\u001b[0m\u001b[0m\n\u001b[0m\u001b[1;32m     31\u001b[0m \u001b[0;31m# yields an AttributeError\u001b[0m\u001b[0;34m\u001b[0m\u001b[0;34m\u001b[0m\u001b[0;34m\u001b[0m\u001b[0m\n",
      "\u001b[0;31mAttributeError\u001b[0m: 'Dog' object has no attribute '__name'"
     ]
    }
   ],
   "source": [
    "print(\"Statefullness of objects:\")\n",
    "print(\"-------------------------\")\n",
    "print(\"If method bark() was invoked 5 times (not necessarily sequentially),\")\n",
    "print(\"the private method __sleep() of the Dog object is invoked.\")\n",
    "print(\"dog1.get_energy() = \"+str(dog1.get_energy()))\n",
    "print(\"dog1.bark(100,1,20) = \"+str(dog1.bark(100,1,20)))\n",
    "print(\"dog1.get_energy() = \"+str(dog1.get_energy()))\n",
    "print(\"dog1.bark(100,1,20) = \"+str(dog1.bark(100,1,20)))\n",
    "print(\"dog1.get_energy() = \"+str(dog1.get_energy()))\n",
    "print(\"\")\n",
    "\n",
    "# interaction between an object of class Dog and of class Ball\n",
    "print(\"Interaction between objects:\")\n",
    "print(\"----------------------------\\n\")\n",
    "print(\"After invoking ball1.inflate():\")\n",
    "ball1.inflate()\n",
    "print(\"ball1.is_inflated() = \"+str(ball1.is_inflated()))\n",
    "print(\"After invoking dog1.bite(ball1):\")\n",
    "dog1.bite(ball1)\n",
    "print(\"ball1.is_inflated() = \"+str(ball1.is_inflated()))\n",
    "\n",
    "print(\"\")\n",
    "\n",
    "# access public object attribute directly\n",
    "print(\"dog1.has = \"+str(dog1.has))\n",
    "print(\"\\n\")\n",
    "\n",
    "# attempt to access private object attribute (discouraged anyway, use setter/getter methods instead !)\n",
    "print(\"Attempt to access private attribute throws an error (encapsulation):\")\n",
    "print(\"dog1.__name = \"+str(dog1.__name))\n",
    "# yields an AttributeError"
   ]
  },
  {
   "cell_type": "code",
   "execution_count": 95,
   "metadata": {},
   "outputs": [
    {
     "name": "stdout",
     "output_type": "stream",
     "text": [
      "Attempt to invoke private method throws an error (encapsulation):\n"
     ]
    },
    {
     "ename": "AttributeError",
     "evalue": "'Dog' object has no attribute '__sleep'",
     "output_type": "error",
     "traceback": [
      "\u001b[0;31m---------------------------------------------------------------------------\u001b[0m",
      "\u001b[0;31mAttributeError\u001b[0m                            Traceback (most recent call last)",
      "\u001b[0;32m<ipython-input-95-e7f9f8959629>\u001b[0m in \u001b[0;36m<module>\u001b[0;34m\u001b[0m\n\u001b[1;32m      1\u001b[0m \u001b[0;31m# attempt to invoke private object method\u001b[0m\u001b[0;34m\u001b[0m\u001b[0;34m\u001b[0m\u001b[0;34m\u001b[0m\u001b[0m\n\u001b[1;32m      2\u001b[0m \u001b[0mprint\u001b[0m\u001b[0;34m(\u001b[0m\u001b[0;34m\"Attempt to invoke private method throws an error (encapsulation):\"\u001b[0m\u001b[0;34m)\u001b[0m\u001b[0;34m\u001b[0m\u001b[0;34m\u001b[0m\u001b[0m\n\u001b[0;32m----> 3\u001b[0;31m \u001b[0mprint\u001b[0m\u001b[0;34m(\u001b[0m\u001b[0;34m\"dog1.__sleep()=\"\u001b[0m\u001b[0;34m+\u001b[0m\u001b[0mdog1\u001b[0m\u001b[0;34m.\u001b[0m\u001b[0m__sleep\u001b[0m\u001b[0;34m(\u001b[0m\u001b[0;34m)\u001b[0m\u001b[0;34m)\u001b[0m\u001b[0;34m\u001b[0m\u001b[0;34m\u001b[0m\u001b[0m\n\u001b[0m",
      "\u001b[0;31mAttributeError\u001b[0m: 'Dog' object has no attribute '__sleep'"
     ]
    }
   ],
   "source": [
    "# attempt to invoke private object method\n",
    "print(\"Attempt to invoke private method throws an error (encapsulation):\")\n",
    "print(\"dog1.__sleep()=\"+dog1.__sleep())"
   ]
  },
  {
   "cell_type": "markdown",
   "metadata": {},
   "source": [
    "<font size=\"3\"><div class=\"alert alert-warning\"><b>Exercise:</b>\n",
    "    Define a class <i>Sheep</i> with <b>private</b> attributes <i>color, name, age, sheared</i> and the <b>public</b> attribute <i>id</i>. Implement <b>setters</b> and <b>getters</b> for the private attributes. Implement a <b>public</b> method <i>shear</i> switching the private attribute <i>sheared</i>. Implement a method <i>_ _str _ _</i> for the implicit string representation of the object, so that Python knows what to do when you attempt to print a Sheep object. Then try to print the Sheep object. </div><br>\n",
    "<b>Try it yourself:</b></font>"
   ]
  },
  {
   "cell_type": "code",
   "execution_count": null,
   "metadata": {},
   "outputs": [],
   "source": []
  },
  {
   "cell_type": "markdown",
   "metadata": {},
   "source": [
    "### Decorators\n",
    "<br>\n",
    "<font size=\"3\">\n",
    "    <b><a href=\"https://wiki.python.org/moin/PythonDecorators\">Decorators</a> help to wrap functions around functions or class methods with a shorter notation, the so-called <i>syntactic sugar</i>, using the @-symbol.</b><br><br>\n",
    "This notation is often used in 3rd party packages e.g. for debugging or code runtime analysis. A popular package to measure the runtime of a function call or an algorithm is <i>timeit</i>. But it is also frequently used in frameworks like Django or Flask for Full-Stack Python where Python-based web applications are developed to denote event callback functions.\n",
    "</font>\n",
    "\n",
    "### Example:"
   ]
  },
  {
   "cell_type": "code",
   "execution_count": 313,
   "metadata": {},
   "outputs": [
    {
     "name": "stdout",
     "output_type": "stream",
     "text": [
      "Something is happening before the function is called.\n",
      "Whee!\n",
      "Something is happening after the function is called.\n"
     ]
    }
   ],
   "source": [
    "def my_decorator(func):\n",
    "    def wrapper():\n",
    "        print(\"Something is happening before the function is called.\")\n",
    "        func()\n",
    "        print(\"Something is happening after the function is called.\")\n",
    "    return wrapper\n",
    "\n",
    "@my_decorator\n",
    "# @my_decorator is just an easier way of saying say_whee = my_decorator(say_whee)\n",
    "def say_whee():\n",
    "    print(\"Whee!\")\n",
    "    \n",
    "say_whee()"
   ]
  },
  {
   "cell_type": "code",
   "execution_count": 316,
   "metadata": {},
   "outputs": [
    {
     "name": "stdout",
     "output_type": "stream",
     "text": [
      "zZzZzZ\n",
      "2.00157 seconds passed.\n"
     ]
    }
   ],
   "source": [
    "import time\n",
    "import numpy as np\n",
    "\n",
    "def benchmark(func):\n",
    "    def wrapper():\n",
    "        t1 = time.time()\n",
    "        func()\n",
    "        delta_t = time.time() - t1\n",
    "        print(str(np.round(delta_t,6))+\" seconds passed.\")\n",
    "    return wrapper\n",
    "\n",
    "@benchmark\n",
    "def something_intensive():\n",
    "    print(\"zZzZzZ\")\n",
    "    time.sleep(2)\n",
    "    \n",
    "something_intensive()"
   ]
  },
  {
   "cell_type": "markdown",
   "metadata": {},
   "source": [
    "### Inheritance & Method prototyping, overriding and overloading\n",
    "<br>\n",
    "<font size=\"3\">\n",
    "    <b>Inheritance is one of the key features of the OOP paradigm.</b><br><br>\n",
    "    <b>Inheritance allows a child-class or subclass to inherit attributes and methods from one or more parent- or super classes.</b><br><br>\n",
    "Inheritance allows to define a hierarchy of classes sharing the same base attributes and methods (interfaces). It can facilitate the implementation of new features in your code.<br><br> Inheritance is very often required when you work with big Python frameworks like the machine learning frameworks PyTorch or Tensorflow. There you write your own class by inheriting from a provided (abstract) class to comply with the interfaces or methods expected by the framework environment.<br><br>\n",
    "<b>In particular, method prototyping, overriding and overloading is applied in that case.<br><br>\n",
    "Method prototypes are simply empty methods defined in the parent class, hence this class is called <i>abstract</i>. <br><br>This prototype method is then overridden by redefining a method with the <u>same name</u> in the sub class.</b><br><br>\n",
    "    <b>Method overloading is also called <i>polymorphism</i> since multiple class methods of the <u>same name</u> can be defined, but accepting different numbers of arguments and types. Depending on which <i>signature</i> (number and data types of expected method arguments) of the method fits, the specific method in that case is selected and executed.\n",
    "</font>\n",
    "\n",
    "### Example:"
   ]
  },
  {
   "cell_type": "code",
   "execution_count": 367,
   "metadata": {},
   "outputs": [
    {
     "name": "stdout",
     "output_type": "stream",
     "text": [
      "{'_Dog__name': 'Hideki', '_age': 99, 'favorite_food': 'Pizza', 'favorite_toy': 'Bone', 'has': None, '_Dog__energy': 5, '_InuShiba__num_of_memes_published': 2e+100}\n",
      "['_Dog__name', '_age', 'favorite_food', 'favorite_toy', 'has', '_Dog__energy', '_InuShiba__num_of_memes_published', '__module__', '__init__', 'publish_meme', 'bark', '__doc__', 'bite', 'retrieve', '_Dog__sleep', 'set_name', 'get_name', 'get_energy', '__dict__', '__weakref__', '__repr__', '__hash__', '__str__', '__getattribute__', '__setattr__', '__delattr__', '__lt__', '__le__', '__eq__', '__ne__', '__gt__', '__ge__', '__new__', '__reduce_ex__', '__reduce__', '__subclasshook__', '__init_subclass__', '__format__', '__sizeof__', '__dir__', '__class__']\n",
      "Barking in Japanese.\n",
      "Barking in Japanese.\n",
      "\n",
      "BAAAAAAAAAAARK\n"
     ]
    },
    {
     "ename": "TypeError",
     "evalue": "bark() missing 3 required positional arguments: 'volume', 'pitch', and 'duration'",
     "output_type": "error",
     "traceback": [
      "\u001b[0;31m---------------------------------------------------------------------------\u001b[0m",
      "\u001b[0;31mTypeError\u001b[0m                                 Traceback (most recent call last)",
      "\u001b[0;32m<ipython-input-367-a9d939fc8dd1>\u001b[0m in \u001b[0;36m<module>\u001b[0;34m\u001b[0m\n\u001b[1;32m     35\u001b[0m \u001b[0mprint\u001b[0m\u001b[0;34m(\u001b[0m\u001b[0mdog1\u001b[0m\u001b[0;34m.\u001b[0m\u001b[0mbark\u001b[0m\u001b[0;34m(\u001b[0m\u001b[0;36m100\u001b[0m\u001b[0;34m,\u001b[0m\u001b[0;36m1\u001b[0m\u001b[0;34m,\u001b[0m\u001b[0;36m10\u001b[0m\u001b[0;34m)\u001b[0m\u001b[0;34m)\u001b[0m\u001b[0;34m\u001b[0m\u001b[0;34m\u001b[0m\u001b[0m\n\u001b[1;32m     36\u001b[0m \u001b[0;31m# invoking bark of a Dog object, throws an exception when invoked without parameters\u001b[0m\u001b[0;34m\u001b[0m\u001b[0;34m\u001b[0m\u001b[0;34m\u001b[0m\u001b[0m\n\u001b[0;32m---> 37\u001b[0;31m \u001b[0mdog1\u001b[0m\u001b[0;34m.\u001b[0m\u001b[0mbark\u001b[0m\u001b[0;34m(\u001b[0m\u001b[0;34m)\u001b[0m\u001b[0;34m\u001b[0m\u001b[0;34m\u001b[0m\u001b[0m\n\u001b[0m",
      "\u001b[0;31mTypeError\u001b[0m: bark() missing 3 required positional arguments: 'volume', 'pitch', and 'duration'"
     ]
    }
   ],
   "source": [
    "# let's use our class Dog from the example above\n",
    "# define a new class defining a special type of Dog\n",
    "class InuShiba(Dog):\n",
    "    \n",
    "    # the constructor of the class Dog is overridden here\n",
    "    def __init__(self, name, num_of_memes_published, age):\n",
    "        \n",
    "        # in order to have the same attributes like the parent or super class Dog\n",
    "        # invoke constructor of super class, then define additional attributes\n",
    "        Dog.__init__(self, name, age)\n",
    "        self.__num_of_memes_published = num_of_memes_published\n",
    "    \n",
    "    # a new method only InuShiba objects have\n",
    "    def publish_meme(self):\n",
    "        self.__num_of_memes_published += 1\n",
    "        \n",
    "    # the method bark is overloaded, since the class Dog already has a method bark, but\n",
    "    # with a different signature: the bark method of Dog expects 3 parameters, this bark method does not.\n",
    "    def bark(self, volume=100, pitch=1, duration=10):\n",
    "        return \"Barking in Japanese.\"\n",
    "\n",
    "special_dog = InuShiba(\"Hideki\", 2E100, 99)\n",
    "# inspecting the attributes of a InuShiba object, it in fact shares the same attributes as a Dog object\n",
    "# but it has additional attributes\n",
    "print(special_dog.__dict__)\n",
    "# inspecting the methods of a InuShiba object, it shares in fact the same methods as a Dog object\n",
    "# but it has additional methods\n",
    "print(special_dog.__dir__())\n",
    "\n",
    "# demonstration of method overloading / polymorphic methods\n",
    "print(special_dog.bark())\n",
    "print(special_dog.bark(100, 1, 10))\n",
    "print(\"\")\n",
    "\n",
    "print(dog1.bark(100,1,10))\n",
    "# invoking bark of a Dog object, throws an exception when invoked without parameters\n",
    "dog1.bark()"
   ]
  },
  {
   "cell_type": "code",
   "execution_count": 360,
   "metadata": {},
   "outputs": [
    {
     "name": "stdout",
     "output_type": "stream",
     "text": [
      "5\n",
      "3\n"
     ]
    }
   ],
   "source": [
    "# Demonstration of built-in polymorphic functions \n",
    "  \n",
    "# len() being used for a string \n",
    "print(len(\"geeks\")) \n",
    "  \n",
    "# len() being used for a list \n",
    "print(len([10, 20, 30])) \n",
    "\n",
    "def add(x, y, z = 0):  \n",
    "    return x + y+z \n",
    "  \n",
    "# Function polymorphism / overloading due to defined default values for function arguments\n",
    "print(add(2, 3)) \n",
    "print(add(2, 3, 4)) \n"
   ]
  },
  {
   "cell_type": "markdown",
   "metadata": {},
   "source": [
    "<font size=\"3\"><div class=\"alert alert-warning\"><b>Exercise:</b> Write a base class <i>Mammal</i> with private properties (attributes) weight, height, food. Define the method prototypes <i>talk</i> and <i>walk</i> by simply defining empty methods (by using the keyword <b>pass</b> after the method definition). Then define a child class <i>Sheep</i> to inherit from the class <i>Mammal</i> and override the prototypes defined in the parent class. </div>\n",
    "\n",
    "<b>Try it yourself:</b></font>"
   ]
  },
  {
   "cell_type": "code",
   "execution_count": null,
   "metadata": {},
   "outputs": [],
   "source": []
  },
  {
   "cell_type": "markdown",
   "metadata": {},
   "source": [
    "### Useful builtin functions and inspect\n",
    "<br>\n",
    "<font size=\"3\">\n",
    "In particular when dealing with arbitrary Python objects and when we have no code documentation available, some builtin Python functions can be very useful.<br><br>\n",
    "<b>Builtin Python functions are usually private and end with a double underscore character.</b><br><br>\n",
    "    <b>We can list all methods and builtin methods of an object by invoking the <i>obj._ _dir_ _()</i> method</b><br>\n",
    "    There, we find again the builtin method <b><i>_ _str_ _</i></b> for the string representation of an object which we can overload.<br>\n",
    "We already did it in fact in the definition of the classes Dog and Ball.\n",
    "</font>\n",
    "\n",
    "### Example:"
   ]
  },
  {
   "cell_type": "code",
   "execution_count": 317,
   "metadata": {},
   "outputs": [
    {
     "data": {
      "text/plain": [
       "['_Dog__name',\n",
       " '_age',\n",
       " 'favorite_food',\n",
       " 'favorite_toy',\n",
       " 'has',\n",
       " '_Dog__energy',\n",
       " '__module__',\n",
       " '__init__',\n",
       " 'bark',\n",
       " 'bite',\n",
       " 'retrieve',\n",
       " '_Dog__sleep',\n",
       " 'set_name',\n",
       " 'get_name',\n",
       " 'get_energy',\n",
       " '__dict__',\n",
       " '__weakref__',\n",
       " '__doc__',\n",
       " '__repr__',\n",
       " '__hash__',\n",
       " '__str__',\n",
       " '__getattribute__',\n",
       " '__setattr__',\n",
       " '__delattr__',\n",
       " '__lt__',\n",
       " '__le__',\n",
       " '__eq__',\n",
       " '__ne__',\n",
       " '__gt__',\n",
       " '__ge__',\n",
       " '__new__',\n",
       " '__reduce_ex__',\n",
       " '__reduce__',\n",
       " '__subclasshook__',\n",
       " '__init_subclass__',\n",
       " '__format__',\n",
       " '__sizeof__',\n",
       " '__dir__',\n",
       " '__class__']"
      ]
     },
     "execution_count": 317,
     "metadata": {},
     "output_type": "execute_result"
    }
   ],
   "source": [
    "dog1.__dir__()"
   ]
  },
  {
   "cell_type": "markdown",
   "metadata": {},
   "source": [
    "<font size=\"3\">\n",
    "We can get all attributes of an object by accessing its Dictionary representation with the builtin private attribute <b><i>_ _dict_ _</b></i>.\n",
    "</font>"
   ]
  },
  {
   "cell_type": "code",
   "execution_count": 321,
   "metadata": {
    "scrolled": false
   },
   "outputs": [
    {
     "data": {
      "text/plain": [
       "{'_Dog__name': 'Bello',\n",
       " '_age': 0,\n",
       " 'favorite_food': 'Pizza',\n",
       " 'favorite_toy': 'Bone',\n",
       " 'has': <__main__.Ball at 0x7f17a37bd0f0>,\n",
       " '_Dog__energy': 5}"
      ]
     },
     "execution_count": 321,
     "metadata": {},
     "output_type": "execute_result"
    }
   ],
   "source": [
    "dog1.__dict__"
   ]
  },
  {
   "cell_type": "markdown",
   "metadata": {},
   "source": [
    "<font size=\"3\">\n",
    "Sometimes in case of errors when we try to debug our code, it can be useful to find out the location path of a module or to check its version. So we can check if the right module (version) was imported in our code.\n",
    "</font>"
   ]
  },
  {
   "cell_type": "code",
   "execution_count": 338,
   "metadata": {},
   "outputs": [
    {
     "name": "stdout",
     "output_type": "stream",
     "text": [
      "['/home/mru/.local/lib/python3.6/site-packages/numpy']\n",
      "1.18.5\n"
     ]
    }
   ],
   "source": [
    "import numpy as np\n",
    "print(np.__path__)\n",
    "print(np.__version__)"
   ]
  },
  {
   "cell_type": "markdown",
   "metadata": {},
   "source": [
    "<font size=\"3\">\n",
    "    <b>For diagnostic purposes, there exists the package <a href=\"https://docs.python.org/3/library/inspect.html\"><i>inspect</i></a> to analyze Python functions or class methods.</b>\n",
    "</font>"
   ]
  },
  {
   "cell_type": "markdown",
   "metadata": {},
   "source": [
    "<font size=\"3\"><div class=\"alert alert-warning\"><b>Exercise:</b> Create a new numpy array and discover its methods and attributes without using the documentation. Analyze a method of your choice with the package <i>inspect</i> to find out which parameters this method expects.</div>\n",
    "\n",
    "<b>Try it yourself:</b></font>"
   ]
  },
  {
   "cell_type": "code",
   "execution_count": null,
   "metadata": {},
   "outputs": [],
   "source": []
  },
  {
   "cell_type": "markdown",
   "metadata": {},
   "source": [
    "<hr style=\"border:1px solid gray\"> </hr>\n",
    "\n",
    "## Working with strings and regular expressions\n",
    "\n",
    "### Working with strings\n",
    "<br>\n",
    "<font size=\"3\">\n",
    "<b>Python offers various builtin functions to work with and manipulate strings (see <a href=\"https://docs.python.org/2.5/lib/string-methods.html\">here</a> in the Python 3.x documentation).</b><br><br>\n",
    "    Among those, the most prominent string methods are <i><b>str.count, str.find, str.replace, str.rstrip, str.split, str.upper</b></i> and <b><i>str.lower</i></b>.\n",
    "</font>\n",
    "\n",
    "### Examples:\n",
    "<br>\n",
    "\n",
    "<font size=\"3\">\n",
    "    The string method <b><i>find</i></b> tries to find a substring in a string and yields the index position where the substring starts.<br><b>If the substring is not found in the string, the method yields -1</b>.\n",
    "</font>"
   ]
  },
  {
   "cell_type": "code",
   "execution_count": 257,
   "metadata": {},
   "outputs": [
    {
     "name": "stdout",
     "output_type": "stream",
     "text": [
      "test.find(sub_str)=10\n",
      "test.find(sub_str2)=-1\n"
     ]
    }
   ],
   "source": [
    "test = \"This is a test string.\"\n",
    "sub_str = \"test\"\n",
    "sub_str2 = \"foo\"\n",
    "\n",
    "print(\"test.find(sub_str)=\"+str(test.find(sub_str)))\n",
    "print(\"test.find(sub_str2)=\"+str(test.find(sub_str2)))"
   ]
  },
  {
   "cell_type": "markdown",
   "metadata": {},
   "source": [
    "<font size=\"3\">\n",
    "    The string method <b><i>count</i> counts the occurrences of a substring</b> in a string.\n",
    "</font>"
   ]
  },
  {
   "cell_type": "code",
   "execution_count": 260,
   "metadata": {},
   "outputs": [
    {
     "name": "stdout",
     "output_type": "stream",
     "text": [
      "test.count(sub_str) = 1\n",
      "test.count(sub_str2) = 3\n",
      "test.count(sub_str3) = 0\n"
     ]
    }
   ],
   "source": [
    "test = \"This is a test string.\"\n",
    "sub_str = \"test\"\n",
    "sub_str2 = \"i\"\n",
    "sub_str3 = \"foo\"\n",
    "\n",
    "cmds = [\"test.count(sub_str)\", \"test.count(sub_str2)\", \"test.count(sub_str3)\"]\n",
    "\n",
    "for elem in cmds:\n",
    "    print(elem + \" = \" + str(eval(elem)))"
   ]
  },
  {
   "cell_type": "markdown",
   "metadata": {},
   "source": [
    "<font size=\"3\">\n",
    "    The string method <b><i>replace</i></b> replaces a substring by another. Note that the method is <b>not an in-place method, hence the original string is not replaced by the result</b>. The method replaces are occurrences of the substring.\n",
    "</font>"
   ]
  },
  {
   "cell_type": "code",
   "execution_count": 267,
   "metadata": {},
   "outputs": [
    {
     "name": "stdout",
     "output_type": "stream",
     "text": [
      "test.replace(sub_str, sub_str2) = This is a foo string.\n",
      "test = This is a test string.\n",
      "test.replace('i', 'x') = Thxs xs a test strxng.\n"
     ]
    }
   ],
   "source": [
    "test = \"This is a test string.\"\n",
    "sub_str = \"test\"\n",
    "sub_str2 = \"foo\"\n",
    "\n",
    "# substring is replaced\n",
    "print(\"test.replace(sub_str, sub_str2) = \"+str(test.replace(sub_str, sub_str2)))\n",
    "# but original string is conserved, since we did not assign result to test\n",
    "print(\"test = \"+test)\n",
    "# all occurrences of the substring are replaced\n",
    "print(\"test.replace('i', 'x') = \"+str(test.replace('i', 'x')))"
   ]
  },
  {
   "cell_type": "markdown",
   "metadata": {},
   "source": [
    "<font size=\"3\">\n",
    "    The string method <b><i>rstrip</i></b> removes trailing whitespace from strings.\n",
    "</font>"
   ]
  },
  {
   "cell_type": "code",
   "execution_count": 278,
   "metadata": {},
   "outputs": [
    {
     "name": "stdout",
     "output_type": "stream",
     "text": [
      "test = '    This is a test     string     '\n",
      "test.rstrip() = '    This is a test     string'\n",
      "test2 = '....This is a test     string.....'\n",
      "test2.rstrip() = '....This is a test     string'\n"
     ]
    }
   ],
   "source": [
    "test = \"    This is a test     string     \"\n",
    "test2 = \"....This is a test     string.....\"\n",
    "print(\"test = '\"+str(test)+\"'\")\n",
    "print(\"test.rstrip() = '\"+test.rstrip()+\"'\")\n",
    "print(\"test2 = '\"+str(test2)+\"'\")\n",
    "print(\"test2.rstrip() = '\"+test2.rstrip(\".\")+\"'\")"
   ]
  },
  {
   "cell_type": "markdown",
   "metadata": {},
   "source": [
    "<font size=\"3\">\n",
    "Often we want to split a string at the occurrences of a substring e.g. if values are separated by a comma.<br><br>This can be done with the string method <b><i>split</i></b> which yields a list of substrings. The string method <b><i>join</i></b> does the opposite and expects a list of strings.\n",
    "</font>"
   ]
  },
  {
   "cell_type": "code",
   "execution_count": 286,
   "metadata": {},
   "outputs": [
    {
     "name": "stdout",
     "output_type": "stream",
     "text": [
      "test = Greifswald,Berlin,Hamburg,Rostock\n",
      "test.split(',') = str_list = ['Greifswald', 'Berlin', 'Hamburg', 'Rostock']\n",
      "'#'.join(str_list) = Greifswald#Berlin#Hamburg#Rostock\n"
     ]
    }
   ],
   "source": [
    "test = \"Greifswald,Berlin,Hamburg,Rostock\"\n",
    "print(\"test = \"+test)\n",
    "print(\"test.split(',') = str_list = \"+str(test.split(\",\")))\n",
    "\n",
    "str_list = test.split(\",\")\n",
    "print(\"'#'.join(str_list) = \" + str(\"#\".join(str_list)))"
   ]
  },
  {
   "cell_type": "markdown",
   "metadata": {},
   "source": [
    "<font size=\"3\">\n",
    "Python also supports the upper/lower case conversion. This is best done using the <b><i>lower()</i></b> or <b><i>upper()</i></b> functions of strings:</font>\n"
   ]
  },
  {
   "cell_type": "code",
   "execution_count": 34,
   "metadata": {
    "scrolled": false
   },
   "outputs": [
    {
     "name": "stdout",
     "output_type": "stream",
     "text": [
      "ATATCGATCTTGG\n",
      "atttgcg\n"
     ]
    }
   ],
   "source": [
    "seq1 = 'atatcgatcttgg'\n",
    "print(seq1.upper())\n",
    "\n",
    "seq2 = 'ATTTGCG'\n",
    "print(seq2.lower())"
   ]
  },
  {
   "cell_type": "markdown",
   "metadata": {},
   "source": [
    "<font size=\"3\"><div class=\"alert alert-warning\"><b>Exercise:</b> <b>Load</b> the provided <b>text file <i>data/poem.txt</i></b> and count all <b>occurrences of vocals a,e,i,o,u</b> and <b>numbers 0-9</b> in the text <b>using string methods</b>. Count also the occurrences of repeating vocals or numbers (e.g. aa, bbb, cc) in the text. Plot the results for the vocals and the numbers in two histograms.\n",
    "<br><br>\n",
    "    <b>Hints:</b> <br>Use <a href=\"https://matplotlib.org/\">matplotlib</a> to plot the <a href=\"https://matplotlib.org/gallery/statistics/histogram_features.html\">histograms</a>.<br><br> Use the <a href=\"https://docs.python.org/3/library/functions.html\">builtin Python functions</a> <b><i>open</i></b> and <a href=\"https://docs.python.org/3/tutorial/inputoutput.html#reading-and-writing-files\"><b><i>readlines</i></b></a> to read the content of the textfile e.g. with<br><br>\n",
    "<font face=\"Courier\">with open('filename') as f:<br>\n",
    "<p style=\"margin-left: 20px\">lines = f.readlines()</font>\n",
    "        \n",
    "</div>"
   ]
  },
  {
   "cell_type": "markdown",
   "metadata": {},
   "source": [
    "<font size=\"3\"><b>Try it yourself:</b></font>"
   ]
  },
  {
   "cell_type": "code",
   "execution_count": null,
   "metadata": {},
   "outputs": [],
   "source": []
  },
  {
   "cell_type": "markdown",
   "metadata": {},
   "source": [
    "### Regular Expressions\n",
    "<br>\n",
    "<font size=\"3\">\n",
    "<b>Regular expressions (RE) are a language of their own where implementations of it can be found in various programming languages. A regular expression describes a search pattern to be found in another string.</b>\n",
    "<br><br>Regular expressions are a tool for finding and replacing complex patterns in strings. Since biological sequence data are strings, regular expressions are e.g useful for solving problems in the field of bioinformatics that are in principle search or search and replace problems. But of course, RE can be also useful for similar problems in other scientific fields.<br>\n",
    "\n",
    "<u><b>Note:</b></u> <br>\n",
    "The package <b><i>re</i></b> for regular expression only needs to be imported once in the notebook. But it is repeated here in every cell to make sure that no error is thrown.<br><br>\n",
    "\n",
    "<b>What are regular expressions?</b><br>\n",
    "<ul>\n",
    "    <li><b>Contained in the Python module <i>re</i></b></li><br>\n",
    "    <li><b>Short notation to describe a search pattern in a string / text</b></li><br>\n",
    "    <li><b>Can solve \"Search\" or \"Search and Replace\" problems</b></li><br>\n",
    "    <li>A <b>regular expression</b> describes a regular langauge - a set of strings over some alphabet</li><br>\n",
    "    <li>e.g. useful in the field of bioinformatics, because DNA sequences are strings</li><br>\n",
    "</ul>\n",
    "\n",
    "<b>Functions</b><br>\n",
    "<br>\n",
    "<ul>\n",
    "    <li><b><i>re.match()</i></b> determines whether the regular expression matches at the beginning of a string</li><br>\n",
    "    <li><b><i>re.search()</i></b> scans through a string, looking for any location where this regular expression matches</li><br>\n",
    "    <li><b><i>re.findall()</i></b> finds all substrings where the regular expression matches and returns them as a list</li><br>\n",
    "    <li><b><i>re.finditer()</i></b> finds all substrings where the regular expression matches and returns them as an iterator</li><br>\n",
    "</ul>\n",
    "</font>\n",
    "\n",
    "### Searching in Strings\n",
    "\n",
    "### Matching somewhere in string\n",
    "  \n",
    "### Example:\n",
    "\n"
   ]
  },
  {
   "cell_type": "code",
   "execution_count": 154,
   "metadata": {
    "scrolled": true
   },
   "outputs": [
    {
     "name": "stdout",
     "output_type": "stream",
     "text": [
      "apple matches the expression.\n",
      "brazil matches the expression.\n",
      "apogee matches the expression.\n",
      "alphabet matches the expression.\n"
     ]
    }
   ],
   "source": [
    "# imports the package to work with regular expressions\n",
    "import re\n",
    "\n",
    "# let's define some example strings to search in\n",
    "str_2_search = [\"apple\", \"brazil\", \"eel\", \"apogee\", \"\", \"hAcker\", \"foo\", \"alphabet\"]\n",
    "\n",
    "for x in str_2_search:\n",
    "    if(re.search(r\"a\", x)):\n",
    "        print(x + \" matches the expression.\")"
   ]
  },
  {
   "cell_type": "markdown",
   "metadata": {},
   "source": [
    "### Matching at beginning of string"
   ]
  },
  {
   "cell_type": "code",
   "execution_count": 133,
   "metadata": {},
   "outputs": [
    {
     "name": "stdout",
     "output_type": "stream",
     "text": [
      "aapple matches the expression.\n",
      "aaaple matches the expression.\n",
      "apple matches the expression.\n",
      "apogee matches the expression.\n",
      "alphabet matches the expression.\n"
     ]
    }
   ],
   "source": [
    "# imports the package to work with regular expressions\n",
    "import re\n",
    "\n",
    "# let's define some example strings to search in\n",
    "str_2_search = [\"aapple\", \"aaaple\", \"apple\", \"brazil\", \"eel\", \"apogee\", \"\", \"hAcker\", \"foo\", \"alphabet\"]\n",
    "\n",
    "for x in str_2_search:\n",
    "    if(re.match(r\"a\", x)):\n",
    "        print(x + \" matches the expression.\")"
   ]
  },
  {
   "cell_type": "markdown",
   "metadata": {},
   "source": [
    "<font size=\"3\">\n",
    "    <b>The <b>^</b> at the beginning of the RE indicates to match at the beginning of the string:</b>\n",
    "</font>"
   ]
  },
  {
   "cell_type": "code",
   "execution_count": 134,
   "metadata": {},
   "outputs": [
    {
     "name": "stdout",
     "output_type": "stream",
     "text": [
      "aapple matches the expression.\n",
      "aaaple matches the expression.\n",
      "apple matches the expression.\n",
      "apogee matches the expression.\n",
      "alphabet matches the expression.\n"
     ]
    }
   ],
   "source": [
    "# imports the package to work with regular expressions\n",
    "import re\n",
    "\n",
    "# let's define some example strings to search in\n",
    "str_2_search = [\"aapple\", \"aaaple\", \"apple\", \"brazil\", \"eel\", \"apogee\", \"\", \"hAcker\", \"foo\", \"alphabet\"]\n",
    "\n",
    "for x in str_2_search:\n",
    "    if(re.search(r\"^a\", x)):\n",
    "        print(x + \" matches the expression.\")"
   ]
  },
  {
   "cell_type": "markdown",
   "metadata": {},
   "source": [
    "### Matching at end of string\n",
    "<br>\n",
    "<font size=\"3\">\n",
    "<b>The dollar sign <b>$</b> at the end of the RE indicates to match at the end of a string.</b>\n",
    "</font>"
   ]
  },
  {
   "cell_type": "code",
   "execution_count": 135,
   "metadata": {},
   "outputs": [
    {
     "name": "stdout",
     "output_type": "stream",
     "text": [
      "Indiana matches the expression.\n"
     ]
    }
   ],
   "source": [
    "# imports the package to work with regular expressions\n",
    "import re\n",
    "\n",
    "# let's define some example strings to search in\n",
    "str_2_search = [\"aapple\", \"aaaple\", \"apple\", \"brazil\", \"eel\", \"apogee\", \"\", \"hAcker\", \"foo\", \"alphabet\", \"Indiana\"]\n",
    "\n",
    "for x in str_2_search:\n",
    "    if(re.search(r\"a$\", x)):\n",
    "        print(x + \" matches the expression.\")"
   ]
  },
  {
   "cell_type": "markdown",
   "metadata": {},
   "source": [
    "### Quantifier in a pattern\n",
    "<br>\n",
    "<font size=\"3\">\n",
    "In the RE <b>a{n}</b> the braces enclose an integer to define how often the expression has to occur (<b>quantifier</b>) in the string to be a valid match.\n",
    "</font>"
   ]
  },
  {
   "cell_type": "code",
   "execution_count": 144,
   "metadata": {},
   "outputs": [
    {
     "name": "stdout",
     "output_type": "stream",
     "text": [
      "aapple matches the expression.\n",
      "aaaple matches the expression.\n"
     ]
    }
   ],
   "source": [
    "import re\n",
    "\n",
    "# let's define some example strings to search in\n",
    "str_2_search = [\"aapple\", \"aaaple\", \"apple\", \"brazil\", \"eel\", \"apogee\", \"\", \"hAcker\", \"foo\", \"alphabet\"]\n",
    "\n",
    "for x in str_2_search:\n",
    "    if(re.search(r\"a{2}\", x)):\n",
    "        print(x + \" matches the expression.\")"
   ]
  },
  {
   "cell_type": "markdown",
   "metadata": {},
   "source": [
    "<font size=\"3\">\n",
    "A range of matches at least or equal n, but a maximum number of m, can be searched with the RE <b>a{n, m}</b>. Again, braces enclose the two integer to define range for the number of pattern matches.\n",
    "</font>"
   ]
  },
  {
   "cell_type": "code",
   "execution_count": 149,
   "metadata": {
    "scrolled": true
   },
   "outputs": [
    {
     "name": "stdout",
     "output_type": "stream",
     "text": [
      "apogee matches the expression.\n"
     ]
    }
   ],
   "source": [
    "# imports the package to work with regular expressions\n",
    "import re\n",
    "\n",
    "# let's define some example strings to search in\n",
    "str_2_search = [\"apple\", \"brazil\", \"eel\", \"apogee\", \"\", \"hAcker\", \"foo\", \"alphabet\"]\n",
    "\n",
    "for x in str_2_search:\n",
    "    if(re.search(r\"ge{1,2}e\", x)):\n",
    "        print(x + \" matches the expression.\")"
   ]
  },
  {
   "cell_type": "markdown",
   "metadata": {},
   "source": [
    "### Case insensitive matching\n",
    "<br>\n",
    "<font size=\"3\">\n",
    "    <b>Case insensitivity can be set with the keyword argument flags set to <i>re.IGNORECASE</i> or with <i>(?i)</i> in the RE itself.</b>\n",
    "</font>"
   ]
  },
  {
   "cell_type": "code",
   "execution_count": 153,
   "metadata": {},
   "outputs": [
    {
     "name": "stdout",
     "output_type": "stream",
     "text": [
      "apple matches the expression.\n",
      "brazil matches the expression.\n",
      "apogee matches the expression.\n",
      "hAcker matches the expression.\n",
      "alphabet matches the expression.\n"
     ]
    }
   ],
   "source": [
    "# imports the package to work with regular expressions\n",
    "import re\n",
    "\n",
    "# let's define some example strings to search in\n",
    "str_2_search = [\"apple\", \"brazil\", \"eel\", \"apogee\", \"\", \"hAcker\", \"foo\", \"alphabet\"]\n",
    "\n",
    "for x in str_2_search:\n",
    "    if(re.search(r\"a\", x, flags=re.IGNORECASE)):\n",
    "        print(x + \" matches the expression.\")"
   ]
  },
  {
   "cell_type": "code",
   "execution_count": 152,
   "metadata": {},
   "outputs": [
    {
     "name": "stdout",
     "output_type": "stream",
     "text": [
      "apple matches the expression.\n",
      "brazil matches the expression.\n",
      "apogee matches the expression.\n",
      "hAcker matches the expression.\n",
      "alphabet matches the expression.\n"
     ]
    }
   ],
   "source": [
    "# imports the package to work with regular expressions\n",
    "import re\n",
    "\n",
    "# let's define some example strings to search in\n",
    "str_2_search = [\"apple\", \"brazil\", \"eel\", \"apogee\", \"\", \"hAcker\", \"foo\", \"alphabet\"]\n",
    "\n",
    "for x in str_2_search:\n",
    "    if(re.search(r\"(?i)a\", x)):\n",
    "        print(x + \" matches the expression.\")"
   ]
  },
  {
   "cell_type": "markdown",
   "metadata": {},
   "source": [
    "### Matching any character\n",
    "<br>\n",
    "<font size=\"3\">\n",
    "    <b>In order to match any character in a RE, a dot can be used as placeholder.</b>\n",
    "</font>"
   ]
  },
  {
   "cell_type": "code",
   "execution_count": 158,
   "metadata": {},
   "outputs": [
    {
     "name": "stdout",
     "output_type": "stream",
     "text": [
      "hacker matches the expression.\n"
     ]
    }
   ],
   "source": [
    "# imports the package to work with regular expressions\n",
    "import re\n",
    "\n",
    "# let's define some example strings to search in\n",
    "str_2_search = [\"apple\", \"brazil\", \"eel\", \"apogee\", \"\", \"hAcker\", \"hacker\", \"foo\", \"alphabet\"]\n",
    "\n",
    "for x in str_2_search:\n",
    "    if(re.search(r\"^.a\", x)):\n",
    "        print(x + \" matches the expression.\")"
   ]
  },
  {
   "cell_type": "markdown",
   "metadata": {},
   "source": [
    "### Accessing matches\n",
    "<font size=\"3\">\n",
    "<br><b>The method <i>re.group()</i> gives access to contents matched in round brackets in pattern.</b>\n",
    "</font>"
   ]
  },
  {
   "cell_type": "code",
   "execution_count": 11,
   "metadata": {},
   "outputs": [
    {
     "name": "stdout",
     "output_type": "stream",
     "text": [
      "aal matches the expression.\n",
      "falten matches the expression.\n",
      "aaa matches the expression.\n"
     ]
    }
   ],
   "source": [
    "# imports the package to work with regular expressions\n",
    "import re\n",
    "\n",
    "# let's define some example strings to search in\n",
    "str_2_search = [\"apple\", \"brazil\", \"eel\", \"apogee\", \"\", \"hacker\", \"foo\", \"alphabet\"]\n",
    "\n",
    "for x in str_2_search:\n",
    "    if(re.search(r\"^.a\", x)):\n",
    "        print(x + \" matches the expression.\")"
   ]
  },
  {
   "cell_type": "markdown",
   "metadata": {},
   "source": [
    "<font size=\"3\">\n",
    "    <b><i>(.*)</i> is a placeholder for an arbitrary number of arbitrary characters in a RE:\n",
    "</font>"
   ]
  },
  {
   "cell_type": "code",
   "execution_count": 185,
   "metadata": {
    "scrolled": true
   },
   "outputs": [
    {
     "name": "stdout",
     "output_type": "stream",
     "text": [
      "String:chr1:400-500\n",
      "thismatch.group(0) = chr1:400-500\n",
      "thismatch.group(1) = chr1\n",
      "thismatch.group(2) = 400\n",
      "thismatch.group(3) = 500\n",
      "String:chr2:1000-2000\n",
      "thismatch.group(0) = chr2:1000-2000\n",
      "thismatch.group(1) = chr2\n",
      "thismatch.group(2) = 1000\n",
      "thismatch.group(3) = 2000\n",
      "String:chrX:1-10000\n",
      "thismatch.group(0) = chrX:1-10000\n",
      "thismatch.group(1) = chrX\n",
      "thismatch.group(2) = 1\n",
      "thismatch.group(3) = 10000\n"
     ]
    }
   ],
   "source": [
    "import re\n",
    "\n",
    "f = [\"chr1:400-500\", \"chr2:1000-2000\", \"chrX:1-10000\"]\n",
    "\n",
    "for x in f:\n",
    "    print(\"String:\" + x)\n",
    "    thismatch = re.search(r\"(.*):(.*)-(.*)\", x)\n",
    "\n",
    "    for i in range(4):\n",
    "        print(\"thismatch.group(\"+str(i)+\") = \"+thismatch.group(i))"
   ]
  },
  {
   "cell_type": "markdown",
   "metadata": {},
   "source": [
    "<font size=\"3\">\n",
    "    <b>With <i>[...]</i> you get a placeholder which yields a match if one of the characters you define, was found at this position (here X or Y):</b>\n",
    "</font>"
   ]
  },
  {
   "cell_type": "code",
   "execution_count": 187,
   "metadata": {},
   "outputs": [
    {
     "name": "stdout",
     "output_type": "stream",
     "text": [
      "chrY:1000-2000 matches with chrY\n",
      "chrX:1-10000 matches with chrX\n"
     ]
    }
   ],
   "source": [
    "import re\n",
    "\n",
    "f = [\"chrM:400-500\", \"chrY:1000-2000\", \"chrX:1-10000\"]\n",
    "\n",
    "for x in f:\n",
    "    thismatch = re.search(r\"(chr[XY])\", x)\n",
    "    if(thismatch):\n",
    "        print(x + \" matches with \" + thismatch.group(1))"
   ]
  },
  {
   "cell_type": "markdown",
   "metadata": {},
   "source": [
    "<font size=\"3\">\n",
    "<b>The methods <i>start()</i> and <i>end()</i> of a pattern match return indices of the match.<br> These can be used for slicing strings that were matched:</b>\n",
    "</font>"
   ]
  },
  {
   "cell_type": "code",
   "execution_count": 247,
   "metadata": {},
   "outputs": [
    {
     "name": "stdout",
     "output_type": "stream",
     "text": [
      "String:apple\n",
      "String:brazil\n",
      "String:eel\n",
      "String:apogee\n",
      "String:\n",
      "String:hacker\n",
      "String:foo\n",
      "String:alphabet\n",
      "String:machine\n",
      "before=m match=ach after=ine\n",
      "String:archmachine\n",
      "before=ar match=ch after=machine\n"
     ]
    }
   ],
   "source": [
    "# imports the package to work with regular expressions\n",
    "import re\n",
    "\n",
    "# let's define some example strings to search in\n",
    "str_2_search = [\"apple\", \"brazil\", \"eel\", \"apogee\", \"\", \"hacker\", \"foo\", \"alphabet\", \"machine\", \"archmachine\"]\n",
    "\n",
    "for x in str_2_search:\n",
    "    print(\"String:\" + x)\n",
    "    thismatch = re.search(r\"a?ch\", x)\n",
    "    if(thismatch):\n",
    "        print(\"before=\" + x[:thismatch.start(0)] + \" match=\" + x[thismatch.start(0):thismatch.end(0)] + \" after=\" + x[thismatch.end(0):])"
   ]
  },
  {
   "cell_type": "markdown",
   "metadata": {},
   "source": [
    "<font size=\"3\">\n",
    "<b>A matched expression in round brackets can be accessed within the pattern using a backslash and the 1-based index number of the pair of brackets (e.g. ()() -> \\1, \\2):\n",
    "</b></font>"
   ]
  },
  {
   "cell_type": "code",
   "execution_count": 17,
   "metadata": {},
   "outputs": [
    {
     "name": "stdout",
     "output_type": "stream",
     "text": [
      "papa matches the expression.\n",
      "geologe matches the expression.\n"
     ]
    }
   ],
   "source": [
    "import re\n",
    "\n",
    "f = [\"papa\", \"geologe\", \"abba\"]\n",
    "\n",
    "for x in f:\n",
    "    if(re.search(r\"^(..).*\\1$\", x)):\n",
    "        print(x + \" matches the expression.\")"
   ]
  },
  {
   "cell_type": "markdown",
   "metadata": {},
   "source": [
    "### Matching particular sets of characters"
   ]
  },
  {
   "cell_type": "code",
   "execution_count": 19,
   "metadata": {},
   "outputs": [
    {
     "name": "stdout",
     "output_type": "stream",
     "text": [
      "chr1:400-500 matches with chr\n",
      "chr2:1000-2000 matches with chr\n",
      "chrX:1-10000 matches with chrX\n"
     ]
    }
   ],
   "source": [
    "import re\n",
    "\n",
    "f = [\"chr1:400-500\", \"chr2:1000-2000\", \"chrX:1-10000\"]\n",
    "\n",
    "for x in f:\n",
    "    thismatch = re.search(r\"(([a-zA-Z]+))\", x)\n",
    "    if(thismatch):\n",
    "        print(x + \" matches with \" + thismatch.group(1))"
   ]
  },
  {
   "cell_type": "code",
   "execution_count": 20,
   "metadata": {},
   "outputs": [
    {
     "name": "stdout",
     "output_type": "stream",
     "text": [
      "chr1:400-500 matches.\n",
      "chr2:1000-2000 matches.\n"
     ]
    }
   ],
   "source": [
    "import re\n",
    "\n",
    "f = [\"chr1:400-500\", \"chr2:1000-2000\", \"chrX:1-10000\"]\n",
    "\n",
    "for x in f:\n",
    "    if(re.search(r\"^chr[^X]\", x)):\n",
    "        print(x + \" matches.\")"
   ]
  },
  {
   "cell_type": "code",
   "execution_count": 26,
   "metadata": {},
   "outputs": [
    {
     "name": "stdout",
     "output_type": "stream",
     "text": [
      "chr1:400-500 matches with chr1\n",
      "chr2:1000-2000 matches with chr2\n"
     ]
    }
   ],
   "source": [
    "import re\n",
    "\n",
    "f = [\"chr1:400-500\", \"chr2:1000-2000\", \"chrX:1-10000\"]\n",
    "\n",
    "for x in f:\n",
    "    thismatch = re.search(r\"(chr\\d)\", x)\n",
    "    if(thismatch):\n",
    "        print(x + \" matches with \" + thismatch.group(1))"
   ]
  },
  {
   "cell_type": "code",
   "execution_count": 22,
   "metadata": {},
   "outputs": [
    {
     "name": "stdout",
     "output_type": "stream",
     "text": [
      "Mr X\n",
      "Mr Bell\n"
     ]
    }
   ],
   "source": [
    "import re\n",
    "\n",
    "f = [\"Mr X\", \"Mr Bell\", \"Mr W\"]\n",
    "\n",
    "for x in f:\n",
    "    if(re.search(r\"Mr (X|..)\", x)):\n",
    "        print(x)"
   ]
  },
  {
   "cell_type": "code",
   "execution_count": 24,
   "metadata": {},
   "outputs": [
    {
     "name": "stdout",
     "output_type": "stream",
     "text": [
      "bbbbbbb matches the expression.\n",
      "ttgbbbbB matches the expression.\n"
     ]
    }
   ],
   "source": [
    "import re\n",
    "\n",
    "f = [\"bbbbbbb\", \"ttgbbbbB\", \"ttgbbbbC\", \"aaa\"]\n",
    "\n",
    "for x in f:\n",
    "    if(re.search(r\"(?i)^.{3}(a+|b+|c+)$\", x)):\n",
    "        print(x + \" matches the expression.\")"
   ]
  },
  {
   "cell_type": "markdown",
   "metadata": {},
   "source": [
    "### Using variables as and in patterns\n",
    "<br>\n",
    "<font size=\"3\">\n",
    "    <b>You can store complete regular expressions in variables for later usage:</b>\n",
    "</font>"
   ]
  },
  {
   "cell_type": "code",
   "execution_count": 25,
   "metadata": {},
   "outputs": [
    {
     "name": "stdout",
     "output_type": "stream",
     "text": [
      "bbbbbbb matches the expression.\n",
      "ttgbbbbB matches the expression.\n"
     ]
    }
   ],
   "source": [
    "import re\n",
    "\n",
    "f = [\"bbbbbbb\", \"ttgbbbbB\", \"ttgbbbbC\", \"aaa\"]\n",
    "\n",
    "expression = r\"(?i)^.{3}(a+|b+|c+)$\"\n",
    "\n",
    "for x in f:\n",
    "    if(re.search(expression, x)):\n",
    "        print(x + \" matches the expression.\")"
   ]
  },
  {
   "cell_type": "markdown",
   "metadata": {},
   "source": [
    "<font size=\"3\">\n",
    "    And you can use the values of variables in regular expressions (note that <b><i>re.escape()</i> is used to escape any special characters</b> that might require escaping in the variables):\n",
    "</font>"
   ]
  },
  {
   "cell_type": "code",
   "execution_count": 27,
   "metadata": {},
   "outputs": [
    {
     "name": "stdout",
     "output_type": "stream",
     "text": [
      "bbbbbbb matches the expression.\n",
      "ttgbbbbB matches the expression.\n"
     ]
    }
   ],
   "source": [
    "import re\n",
    "\n",
    "f = [\"bbbbbbb\", \"ttgbbbbB\", \"ttgbbbbC\", \"aaa\"]\n",
    "\n",
    "var1 = \"a\"\n",
    "var2 = \"b\"\n",
    "var3 = \"c\"\n",
    "\n",
    "expression = r\"(?i)^.{3}(\" + re.escape(var1) + \"+|\" + re.escape(var2) + \"+|\" + re.escape(var3) + \"+)$\"\n",
    "\n",
    "for x in f:\n",
    "    if(re.search(expression, x)):\n",
    "        print(x + \" matches the expression.\")"
   ]
  },
  {
   "cell_type": "markdown",
   "metadata": {},
   "source": [
    "## Search and replace\n",
    "<br>\n",
    "<font size=\"3\">\n",
    "    <b>The method <i>re.sub()</i> allows search and replace operations for substrings.</b>\n",
    "</font>"
   ]
  },
  {
   "cell_type": "code",
   "execution_count": 28,
   "metadata": {},
   "outputs": [
    {
     "name": "stdout",
     "output_type": "stream",
     "text": [
      "Three genes on chromosome 1, chr3 and chrX.\n",
      "Three genes on chromosome 1, chromosome 3 and chromosome X.\n"
     ]
    }
   ],
   "source": [
    "import re\n",
    "\n",
    "a = b = \"Three genes on chr1, chr3 and chrX. \"\n",
    "\n",
    "# rstrip() is a method that removes all tailing whitespaces\n",
    "a = re.sub(r'chr', r'chromosome ', a.rstrip(), count=1)\n",
    "b = re.sub(r'chr', r'chromosome ', b.rstrip())\n",
    "\n",
    "print(a)\n",
    "print(b)"
   ]
  },
  {
   "cell_type": "code",
   "execution_count": 29,
   "metadata": {},
   "outputs": [
    {
     "name": "stdout",
     "output_type": "stream",
     "text": [
      "x before regex: chr1:400-500\n",
      "x after  regex: Sequence chr1 starts at 400 and ends at 500.\n",
      "x before regex: chr2:1000-2000\n",
      "x after  regex: Sequence chr2 starts at 1000 and ends at 2000.\n",
      "x before regex: chrX:1-10000\n",
      "x after  regex: Sequence chrX starts at 1 and ends at 10000.\n"
     ]
    }
   ],
   "source": [
    "import re\n",
    "\n",
    "f = [\"chr1:400-500\", \"chr2:1000-2000\", \"chrX:1-10000\"]\n",
    "\n",
    "for x in f:\n",
    "    print(\"x before regex: \" + x)\n",
    "    # note: no quoting required for . in replacing pattern\n",
    "    x = re.sub(r'(chr.):(\\d+)-(\\d+)',\n",
    "               r'Sequence \\1 starts at \\2 and ends at \\3.',\n",
    "               x)\n",
    "    print(\"x after  regex: \" + x)"
   ]
  },
  {
   "cell_type": "markdown",
   "metadata": {},
   "source": [
    "## Split"
   ]
  },
  {
   "cell_type": "code",
   "execution_count": 32,
   "metadata": {},
   "outputs": [
    {
     "name": "stdout",
     "output_type": "stream",
     "text": [
      "A\ttab\tseparated\tsstring\n",
      "A\n",
      "tab\n",
      "separated\n",
      "sstring\n"
     ]
    }
   ],
   "source": [
    "import re\n",
    "\n",
    "string = \"A\\ttab\\tseparated\\tsstring\"\n",
    "\n",
    "print(string)\n",
    "\n",
    "splitlist = re.split(r'\\t+', string.rstrip('\\t'))\n",
    "\n",
    "for element in splitlist:\n",
    "    print(element)"
   ]
  },
  {
   "cell_type": "markdown",
   "metadata": {},
   "source": [
    "## Escape and special characters in regular expressions\n",
    "<br>\n",
    "<font size=\"3\"> \n",
    "    \n",
    "| Abbreviation | Meaning |\n",
    "| --- | --- |\n",
    "| \\t | tabulator |\n",
    "| \\n | linebreak |\n",
    "| . | any character |\n",
    "| \\s | whitespace |\n",
    "| \\S | non whitespace |\n",
    "| \\w | word character [a-zA-Z] |\n",
    "| \\W | not a word character |\n",
    "| \\d | digit [0-9] |\n",
    "| \\$ | dollar sign |\n",
    "| \\^ | carret sign |\n",
    "\n",
    "</font>"
   ]
  },
  {
   "cell_type": "markdown",
   "metadata": {},
   "source": [
    "<font size=\"3\"><div class=\"alert alert-warning\"><b>Exercise:</b> <b>Load</b> the provided <b>text file <i>data/poem.txt</i></b> and count all <b>occurrences of vocals a,e,i,o,u</b> and <b>numbers 0-9</b> in the text <b>using regular expressions</b>. Count also the occurrences of repeating vocals or numbers (e.g. aa, bbb, cc) in the text. Plot the results for the vocals and the numbers in two histograms.\n",
    "<br><br>\n",
    "    <b>Hints:</b> <br>Use <a href=\"https://matplotlib.org/\">matplotlib</a> to plot the <a href=\"https://matplotlib.org/gallery/statistics/histogram_features.html\">histograms</a>.<br><br> Use the <a href=\"https://docs.python.org/3/library/functions.html\">builtin Python functions</a> <b><i>open</i></b> and <a href=\"https://docs.python.org/3/tutorial/inputoutput.html#reading-and-writing-files\"><b><i>readlines</i></b></a> to read the content of the textfile e.g. with<br><br>\n",
    "<font face=\"Courier\">with open('filename') as f:<br>\n",
    "<p style=\"margin-left: 20px\">lines = f.readlines()</font>\n",
    "        \n",
    "</div>"
   ]
  },
  {
   "cell_type": "markdown",
   "metadata": {},
   "source": [
    "<font size=\"3\">\n",
    "    <b>Content of the text file <i>data/poem.txt:</i></b>\n",
    "</font>"
   ]
  },
  {
   "cell_type": "code",
   "execution_count": 250,
   "metadata": {},
   "outputs": [
    {
     "name": "stdout",
     "output_type": "stream",
     "text": [
      "Sudden Light - Dante Gabriel Rossetti\n",
      "\n",
      "I have been here before,\n",
      "But when or how I cannot tell:\n",
      "I know the grass beyond the door,\n",
      "The sweet keen smell,\n",
      "The sighing sound, the lights around the shore.\n",
      "\n",
      "You have been mine before,—\n",
      "How long ago I may not know:\n",
      "But just when at that swallow's soar\n",
      "Your neck turn'd so,\n",
      "Some veil did fall,—I knew it all of yore.\n",
      "\n",
      "Has this been thus before?\n",
      "And shall not thus time's eddying flight\n",
      "Still with our lives our love restore\n",
      "In death's despite,\n",
      "And day and night yield one delight once more? \n",
      "\n",
      "3.14159265358979323846264338327950288419716939937510582097494459230781640628620899\n",
      "8628034825342117067982148086532823066470938446095505822317253594081284811174502841\n",
      "0270193852110555964462294895493038196442881097566593344612847564823786783165271201\n",
      "9091456485669234603486104543266482133936072602491412737245870066063155881748815209\n",
      "2062829254091715364367892590360011330530548820466521384146951941511609433057270365\n",
      "7595919530921861173819326117931051185480744623799627495673188575272489122793818301\n",
      "1949129833673362440656643086021394946395224737190702179860943702770539217176293176\n",
      "7523846748184766940513200056812714526356082778577134275778960917363717872146844090\n",
      "1224953430146549585371050792279689258923542019956121290219608640344181598136297747\n",
      "7130996051870721134999999837297804995105973173281609631859502445945534690830264252\n",
      "2308233446850352619311881710100031378387528865875332083814206171776691473035982534\n",
      "9042875546873115956286388235378759375195771857780532171226806613001927876611195909\n",
      "2164201989\n"
     ]
    }
   ],
   "source": [
    "%%bash\n",
    "cat data/poem.txt"
   ]
  },
  {
   "cell_type": "markdown",
   "metadata": {},
   "source": [
    "<font size=\"3\"><b>Try it yourself:</b></font>"
   ]
  },
  {
   "cell_type": "code",
   "execution_count": null,
   "metadata": {},
   "outputs": [],
   "source": []
  },
  {
   "cell_type": "markdown",
   "metadata": {},
   "source": [
    "<hr style=\"border:1px solid gray\"> </hr>\n",
    "\n",
    "## Exceptions\n",
    "<br>\n",
    "<font size=\"3\">\n",
    "You've surely already experienced when an exception was raised or in other words an error was thrown. For example, when we try to divide by zero or access a non-existant list element:\n",
    "</font>"
   ]
  },
  {
   "cell_type": "code",
   "execution_count": 288,
   "metadata": {},
   "outputs": [
    {
     "ename": "ZeroDivisionError",
     "evalue": "division by zero",
     "output_type": "error",
     "traceback": [
      "\u001b[0;31m---------------------------------------------------------------------------\u001b[0m",
      "\u001b[0;31mZeroDivisionError\u001b[0m                         Traceback (most recent call last)",
      "\u001b[0;32m<ipython-input-288-bc757c3fda29>\u001b[0m in \u001b[0;36m<module>\u001b[0;34m\u001b[0m\n\u001b[0;32m----> 1\u001b[0;31m \u001b[0;36m1\u001b[0m \u001b[0;34m/\u001b[0m \u001b[0;36m0\u001b[0m\u001b[0;34m\u001b[0m\u001b[0;34m\u001b[0m\u001b[0m\n\u001b[0m",
      "\u001b[0;31mZeroDivisionError\u001b[0m: division by zero"
     ]
    }
   ],
   "source": [
    "1 / 0"
   ]
  },
  {
   "cell_type": "code",
   "execution_count": 287,
   "metadata": {},
   "outputs": [
    {
     "ename": "IndexError",
     "evalue": "list index out of range",
     "output_type": "error",
     "traceback": [
      "\u001b[0;31m---------------------------------------------------------------------------\u001b[0m",
      "\u001b[0;31mIndexError\u001b[0m                                Traceback (most recent call last)",
      "\u001b[0;32m<ipython-input-287-1423975c3852>\u001b[0m in \u001b[0;36m<module>\u001b[0;34m\u001b[0m\n\u001b[1;32m      1\u001b[0m \u001b[0mfoo\u001b[0m \u001b[0;34m=\u001b[0m \u001b[0;34m[\u001b[0m\u001b[0;36m1\u001b[0m\u001b[0;34m,\u001b[0m \u001b[0;36m2\u001b[0m\u001b[0;34m,\u001b[0m \u001b[0;36m3\u001b[0m\u001b[0;34m]\u001b[0m\u001b[0;34m\u001b[0m\u001b[0;34m\u001b[0m\u001b[0m\n\u001b[0;32m----> 2\u001b[0;31m \u001b[0mfoo\u001b[0m\u001b[0;34m[\u001b[0m\u001b[0;36m10\u001b[0m\u001b[0;34m]\u001b[0m\u001b[0;34m\u001b[0m\u001b[0;34m\u001b[0m\u001b[0m\n\u001b[0m",
      "\u001b[0;31mIndexError\u001b[0m: list index out of range"
     ]
    }
   ],
   "source": [
    "foo = [1, 2, 3]\n",
    "foo[10]"
   ]
  },
  {
   "cell_type": "markdown",
   "metadata": {},
   "source": [
    "<font size=\"3\">\n",
    "<b>Normally, the program execution is terminated whenever an exception is raised.</b><br><br>\n",
    "    <b>But Python offers the <i>try..except..finally</i> statement to <i>catch</i> an exception during the runtime.</b><br> A possible use case could be to gracefully terminate a running program by saving the program state before it is terminated.<br><br>\n",
    "You can also raise exceptions on purpose in your code by using the keyword <b><i>raise</i><b> followed by an <b><i>Exception</i><b> object.\n",
    "</font>\n",
    "\n",
    "### Example:"
   ]
  },
  {
   "cell_type": "code",
   "execution_count": 312,
   "metadata": {},
   "outputs": [
    {
     "name": "stdout",
     "output_type": "stream",
     "text": [
      "A type error occurred. Terminating gracefully...\n",
      "Done.\n"
     ]
    }
   ],
   "source": [
    "#user_input = [1, 0]\n",
    "user_input = [1, None]\n",
    "\n",
    "try:\n",
    "    # code block in which any or a specific Exception should be catched\n",
    "    result = user_input[0] / user_input[1]\n",
    "except ZeroDivisionError:\n",
    "    print(\"A division by zero was attempted. Terminating gracefully...\")\n",
    "except TypeError:\n",
    "    print(\"A type error occurred. Terminating gracefully...\")\n",
    "except Exception:\n",
    "    # what do to in case of an exception\n",
    "    print(\"A general exception occurred.\")\n",
    "finally:\n",
    "    # after exception has been catched\n",
    "    print(\"Done.\")\n",
    "    "
   ]
  },
  {
   "cell_type": "code",
   "execution_count": 291,
   "metadata": {},
   "outputs": [
    {
     "name": "stdout",
     "output_type": "stream",
     "text": [
      "<class 'TypeError'>\n"
     ]
    },
    {
     "ename": "TypeError",
     "evalue": "This is a test.",
     "output_type": "error",
     "traceback": [
      "\u001b[0;31m---------------------------------------------------------------------------\u001b[0m",
      "\u001b[0;31mTypeError\u001b[0m                                 Traceback (most recent call last)",
      "\u001b[0;32m<ipython-input-291-5c9b9ab27e9e>\u001b[0m in \u001b[0;36m<module>\u001b[0;34m\u001b[0m\n\u001b[1;32m      1\u001b[0m \u001b[0mprint\u001b[0m\u001b[0;34m(\u001b[0m\u001b[0mtype\u001b[0m\u001b[0;34m(\u001b[0m\u001b[0mTypeError\u001b[0m\u001b[0;34m(\u001b[0m\u001b[0;34m\"This is a test.\"\u001b[0m\u001b[0;34m)\u001b[0m\u001b[0;34m)\u001b[0m\u001b[0;34m)\u001b[0m\u001b[0;34m\u001b[0m\u001b[0;34m\u001b[0m\u001b[0m\n\u001b[1;32m      2\u001b[0m \u001b[0;34m\u001b[0m\u001b[0m\n\u001b[0;32m----> 3\u001b[0;31m \u001b[0;32mraise\u001b[0m \u001b[0mTypeError\u001b[0m\u001b[0;34m(\u001b[0m\u001b[0;34m\"This is a test.\"\u001b[0m\u001b[0;34m)\u001b[0m\u001b[0;34m\u001b[0m\u001b[0;34m\u001b[0m\u001b[0m\n\u001b[0m",
      "\u001b[0;31mTypeError\u001b[0m: This is a test."
     ]
    }
   ],
   "source": [
    "print(type(TypeError(\"This is a test.\")))\n",
    "\n",
    "raise TypeError(\"This is a test.\")"
   ]
  },
  {
   "cell_type": "markdown",
   "metadata": {},
   "source": [
    "<font size=\"3\"><div class=\"alert alert-warning\"><b>Exercise:</b>Implement object/data type checks for the methods of the class Dog from above. Make sure this way that the method argument is e.g. a numerical value or string according to what is saved in the attributes.<br><br>\n",
    "    <b>Hint: </b><br> Checkout the Python documentation about <a href=\"https://docs.python.org/3/library/exceptions.html\">builtin exceptions</a>.</div>\n",
    "\n",
    "<b>Try it yourself:</b></font>"
   ]
  },
  {
   "cell_type": "code",
   "execution_count": null,
   "metadata": {},
   "outputs": [],
   "source": []
  },
  {
   "cell_type": "markdown",
   "metadata": {},
   "source": [
    "## Thank you for your attention! Any questions?\n",
    "\n",
    "## See you for the second part online!"
   ]
  }
 ],
 "metadata": {
  "kernelspec": {
   "display_name": "Python 3",
   "language": "python",
   "name": "python3"
  },
  "language_info": {
   "codemirror_mode": {
    "name": "ipython",
    "version": 3
   },
   "file_extension": ".py",
   "mimetype": "text/x-python",
   "name": "python",
   "nbconvert_exporter": "python",
   "pygments_lexer": "ipython3",
   "version": "3.6.9"
  }
 },
 "nbformat": 4,
 "nbformat_minor": 2
}
